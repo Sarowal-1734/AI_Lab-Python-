{
  "nbformat": 4,
  "nbformat_minor": 0,
  "metadata": {
    "colab": {
      "name": "Lab 1.ipynb",
      "provenance": [],
      "authorship_tag": "ABX9TyPodpJuoBV1rEkS1Zv42PTO",
      "include_colab_link": true
    },
    "kernelspec": {
      "name": "python3",
      "display_name": "Python 3"
    }
  },
  "cells": [
    {
      "cell_type": "markdown",
      "metadata": {
        "id": "view-in-github",
        "colab_type": "text"
      },
      "source": [
        "<a href=\"https://colab.research.google.com/github/Sarowal-1734/AI_Lab-Python-/blob/main/Lab_1.ipynb\" target=\"_parent\"><img src=\"https://colab.research.google.com/assets/colab-badge.svg\" alt=\"Open In Colab\"/></a>"
      ]
    },
    {
      "cell_type": "markdown",
      "metadata": {
        "id": "PCzLdrHRiaXG"
      },
      "source": [
        "#Variables in Python"
      ]
    },
    {
      "cell_type": "code",
      "metadata": {
        "colab": {
          "base_uri": "https://localhost:8080/"
        },
        "id": "-NTP7sPLmAWU",
        "outputId": "c2b99ce6-c52e-4d02-b0a9-bf800416e730"
      },
      "source": [
        "n=54\n",
        "type(n)"
      ],
      "execution_count": 17,
      "outputs": [
        {
          "output_type": "execute_result",
          "data": {
            "text/plain": [
              "int"
            ]
          },
          "metadata": {
            "tags": []
          },
          "execution_count": 17
        }
      ]
    },
    {
      "cell_type": "code",
      "metadata": {
        "colab": {
          "base_uri": "https://localhost:8080/"
        },
        "id": "NLjjuNuRna1z",
        "outputId": "ccf2ed65-29e7-4347-e657-f10be0dc079e"
      },
      "source": [
        "#list\n",
        "l = [4, 5, \"Sarowal\", 8]\n",
        "print(l)\n",
        "print(l[3])"
      ],
      "execution_count": 23,
      "outputs": [
        {
          "output_type": "stream",
          "text": [
            "[4, 5, 'Sarowal', 8]\n",
            "8\n"
          ],
          "name": "stdout"
        }
      ]
    },
    {
      "cell_type": "code",
      "metadata": {
        "colab": {
          "base_uri": "https://localhost:8080/"
        },
        "id": "fdYuHZhTn2tq",
        "outputId": "3bddab24-79f1-447e-a510-344c5880bb18"
      },
      "source": [
        "#dictionary\n",
        "d = {\"Rahim\" : 500, \"Karim\" : 200}\n",
        "print(d)"
      ],
      "execution_count": 26,
      "outputs": [
        {
          "output_type": "stream",
          "text": [
            "{'Rahim': 500, 'Karim': 200}\n"
          ],
          "name": "stdout"
        }
      ]
    },
    {
      "cell_type": "code",
      "metadata": {
        "colab": {
          "base_uri": "https://localhost:8080/"
        },
        "id": "BtcjRPE1oXcf",
        "outputId": "5066c6b4-5395-49ce-9652-ab986fe5ed82"
      },
      "source": [
        "name = \"Rahim\"\n",
        "tk = 1000\n",
        "print(\"%s has %s tk.\" %(name, tk))"
      ],
      "execution_count": 31,
      "outputs": [
        {
          "output_type": "stream",
          "text": [
            "Rahim has 1000 tk.\n"
          ],
          "name": "stdout"
        }
      ]
    },
    {
      "cell_type": "code",
      "metadata": {
        "colab": {
          "base_uri": "https://localhost:8080/"
        },
        "id": "_OyQJORypLLQ",
        "outputId": "ffb2f20c-bd1c-42a0-88e8-a5145bc9eff6"
      },
      "source": [
        "n = int(input(\"Enter a number: \"))\n",
        "if n==10:\n",
        "  print(\"The value of 10\")\n",
        "elif n>0 and n<999:\n",
        "  print(\"The value is between 1000\")\n",
        "else:\n",
        "  print(\"Anythings\")"
      ],
      "execution_count": 43,
      "outputs": [
        {
          "output_type": "stream",
          "text": [
            "Enter a number: 999\n",
            "Anythings\n"
          ],
          "name": "stdout"
        }
      ]
    },
    {
      "cell_type": "code",
      "metadata": {
        "colab": {
          "base_uri": "https://localhost:8080/"
        },
        "id": "7aC6GqZyqBp3",
        "outputId": "cd9e8af5-70be-45d4-feec-d31e99bd81db"
      },
      "source": [
        "# for loop\n",
        "for x in l:\n",
        "  print(x)\n"
      ],
      "execution_count": 74,
      "outputs": [
        {
          "output_type": "stream",
          "text": [
            "4\n",
            "5\n",
            "Sarowal\n",
            "8\n"
          ],
          "name": "stdout"
        }
      ]
    },
    {
      "cell_type": "code",
      "metadata": {
        "colab": {
          "base_uri": "https://localhost:8080/"
        },
        "id": "FPMU_quErWD_",
        "outputId": "69fe5362-aae0-4544-e29e-597f690cc332"
      },
      "source": [
        "# while loop\n",
        "count = 6\n",
        "while count <=10:\n",
        "  print(count)\n",
        "  count+=1"
      ],
      "execution_count": 75,
      "outputs": [
        {
          "output_type": "stream",
          "text": [
            "6\n",
            "7\n",
            "8\n",
            "9\n",
            "10\n"
          ],
          "name": "stdout"
        }
      ]
    },
    {
      "cell_type": "code",
      "metadata": {
        "colab": {
          "base_uri": "https://localhost:8080/"
        },
        "id": "3Bw8Oj8pr2Zh",
        "outputId": "d74393f2-1307-4814-83fb-0416f69c1bfe"
      },
      "source": [
        "# function\n",
        "def myMethod():\n",
        "  print(\"This is my method.\")\n",
        "  print(\"Thank you.\")\n",
        "\n",
        "myMethod()"
      ],
      "execution_count": 76,
      "outputs": [
        {
          "output_type": "stream",
          "text": [
            "This is my method.\n",
            "Thank you.\n"
          ],
          "name": "stdout"
        }
      ]
    },
    {
      "cell_type": "code",
      "metadata": {
        "id": "dwn3RdCqspLH"
      },
      "source": [
        "# function\n",
        "def sum(x, y):\n",
        "  z = x+y\n",
        "  return z"
      ],
      "execution_count": 77,
      "outputs": []
    },
    {
      "cell_type": "code",
      "metadata": {
        "colab": {
          "base_uri": "https://localhost:8080/"
        },
        "id": "SbY-hYbtsh0-",
        "outputId": "5e4baabb-2a5a-4293-c05f-a55e9aa7eb53"
      },
      "source": [
        "# function call\n",
        "sum(33, 5)"
      ],
      "execution_count": 78,
      "outputs": [
        {
          "output_type": "execute_result",
          "data": {
            "text/plain": [
              "38"
            ]
          },
          "metadata": {
            "tags": []
          },
          "execution_count": 78
        }
      ]
    },
    {
      "cell_type": "code",
      "metadata": {
        "colab": {
          "base_uri": "https://localhost:8080/"
        },
        "id": "ZpkT5S9-tmRs",
        "outputId": "5d2648c9-6e89-4427-b4f2-2c6346f16908"
      },
      "source": [
        "name = \"Rahim\"\n",
        "age = 24\n",
        "print(\"My name is:\", name, \"and My age is:\", age)"
      ],
      "execution_count": 56,
      "outputs": [
        {
          "output_type": "stream",
          "text": [
            "My name is: Rahim and My age is: 24\n"
          ],
          "name": "stdout"
        }
      ]
    },
    {
      "cell_type": "code",
      "metadata": {
        "colab": {
          "base_uri": "https://localhost:8080/"
        },
        "id": "y9-6iTXpuFrC",
        "outputId": "c4779f42-42a4-4431-c5b4-e5f2f76714d4"
      },
      "source": [
        "numbers = [3, 6, 8, 7, 10]\n",
        "numbers.pop()\n",
        "for x in numbers:\n",
        "  print(x)"
      ],
      "execution_count": 60,
      "outputs": [
        {
          "output_type": "stream",
          "text": [
            "3\n",
            "6\n",
            "8\n",
            "7\n"
          ],
          "name": "stdout"
        }
      ]
    },
    {
      "cell_type": "code",
      "metadata": {
        "colab": {
          "base_uri": "https://localhost:8080/"
        },
        "id": "_GkhfLObubuE",
        "outputId": "956b08c1-dac3-42e2-d860-b1ddbe5c2193"
      },
      "source": [
        "numbers = [3, 6, 8, 7, 10]\n",
        "numbers.remove(6)\n",
        "for x in numbers:\n",
        "  print(x)"
      ],
      "execution_count": 61,
      "outputs": [
        {
          "output_type": "stream",
          "text": [
            "3\n",
            "8\n",
            "7\n",
            "10\n"
          ],
          "name": "stdout"
        }
      ]
    },
    {
      "cell_type": "code",
      "metadata": {
        "colab": {
          "base_uri": "https://localhost:8080/"
        },
        "id": "HkgRkNtIujLS",
        "outputId": "b365d9ed-c6f0-4ff4-96a2-d8fa48437c28"
      },
      "source": [
        "def print_sq_value(numbers):\n",
        "  for x in numbers:\n",
        "    if x%2 == 1:\n",
        "      sq = x*x\n",
        "      print(sq)\n",
        "\n",
        "numbers = [1, 2, 3, 4, 5]\n",
        "print_sq_value(numbers)    "
      ],
      "execution_count": 71,
      "outputs": [
        {
          "output_type": "stream",
          "text": [
            "1\n",
            "9\n",
            "25\n"
          ],
          "name": "stdout"
        }
      ]
    }
  ]
}